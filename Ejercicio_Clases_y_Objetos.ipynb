{
 "cells": [
  {
   "cell_type": "code",
   "execution_count": 2,
   "id": "fd423a9b",
   "metadata": {},
   "outputs": [
    {
     "name": "stdout",
     "output_type": "stream",
     "text": [
      "Producto: Camiseta, Precio: $20.00, Inventario: 100 unidades\n",
      "Producto: Camiseta, Precio: $18.00, Inventario: 100 unidades\n",
      "Producto: Camiseta, Precio: $18.00, Inventario: 150 unidades\n",
      "Producto: Ebook, Precio: $15.00, Inventario: 200 unidades, Tamaño del archivo: 5MB, Formato: PDF\n",
      "Producto: Ebook, Precio: $12.00, Inventario: 200 unidades, Tamaño del archivo: 5MB, Formato: PDF\n",
      "Descargando Ebook en formato PDF...\n"
     ]
    }
   ],
   "source": [
    "class Producto:\n",
    "    def __init__(self, nombre, precio, inventario):\n",
    "        self.nombre = nombre\n",
    "        self.precio = precio\n",
    "        self.inventario = inventario\n",
    "\n",
    "    def aplicar_descuento(self, porcentaje):\n",
    "        #Aplica un descuento al precio del producto.\n",
    "        self.precio -= self.precio * (porcentaje / 100)\n",
    "\n",
    "    def actualizar_inventario(self, cantidad):\n",
    "        #Actualiza la cantidad de inventario disponible.\n",
    "        self.inventario += cantidad\n",
    "\n",
    "    def mostrar_informacion(self):\n",
    "        #Muestra la información del producto.\n",
    "        return f\"Producto: {self.nombre}, Precio: ${self.precio:.2f}, Inventario: {self.inventario} unidades\"\n",
    "\n",
    "class ProductoDigital(Producto):\n",
    "    def __init__(self, nombre, precio, inventario, tamano_archivo, formato):\n",
    "        super().__init__(nombre, precio, inventario)\n",
    "        self.tamano_archivo = tamano_archivo\n",
    "        self.formato = formato\n",
    "\n",
    "    def mostrar_informacion(self):\n",
    "        #Muestra la información del producto digital.\n",
    "        info_producto = super().mostrar_informacion()\n",
    "        return f\"{info_producto}, Tamaño del archivo: {self.tamano_archivo}MB, Formato: {self.formato}\"\n",
    "\n",
    "    def descargar(self):\n",
    "        #Simula la descarga del producto digital.\n",
    "        return f\"Descargando {self.nombre} en formato {self.formato}...\"\n",
    "\n",
    "# Ejemplo de uso\n",
    "producto1 = Producto(\"Camiseta\", 20.00, 100)\n",
    "print(producto1.mostrar_informacion())\n",
    "\n",
    "producto1.aplicar_descuento(10)\n",
    "print(producto1.mostrar_informacion())\n",
    "\n",
    "producto1.actualizar_inventario(50)\n",
    "print(producto1.mostrar_informacion())\n",
    "\n",
    "producto_digital1 = ProductoDigital(\"Ebook\", 15.00, 200, 5, \"PDF\")\n",
    "print(producto_digital1.mostrar_informacion())\n",
    "\n",
    "producto_digital1.aplicar_descuento(20)\n",
    "print(producto_digital1.mostrar_informacion())\n",
    "\n",
    "print(producto_digital1.descargar())\n"
   ]
  },
  {
   "cell_type": "code",
   "execution_count": null,
   "id": "938e17dd",
   "metadata": {},
   "outputs": [],
   "source": []
  }
 ],
 "metadata": {
  "kernelspec": {
   "display_name": "Python 3 (ipykernel)",
   "language": "python",
   "name": "python3"
  },
  "language_info": {
   "codemirror_mode": {
    "name": "ipython",
    "version": 3
   },
   "file_extension": ".py",
   "mimetype": "text/x-python",
   "name": "python",
   "nbconvert_exporter": "python",
   "pygments_lexer": "ipython3",
   "version": "3.11.7"
  }
 },
 "nbformat": 4,
 "nbformat_minor": 5
}
